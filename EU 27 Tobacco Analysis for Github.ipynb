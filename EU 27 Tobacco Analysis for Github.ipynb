{
 "cells": [
  {
   "cell_type": "markdown",
   "id": "80751458",
   "metadata": {},
   "source": [
    "### IMPORTING NECESSARY PACKAGES  \n",
    "  \n",
    "The project will require:  \n",
    " - NumPy and Pandas for Data Frames  \n",
    " - tabula to be able to extract data from PDF file  \n",
    " - re in order to use regular expression for data cleaning"
   ]
  },
  {
   "cell_type": "code",
   "execution_count": 1,
   "id": "9cb6d5d6",
   "metadata": {},
   "outputs": [],
   "source": [
    "import numpy as np\n",
    "import pandas as pd\n",
    "from pandas import Series, DataFrame\n",
    "import tabula\n",
    "import re"
   ]
  },
  {
   "cell_type": "markdown",
   "id": "ff9465db",
   "metadata": {},
   "source": [
    "### 1. ILLICIT CIGARETTES  \n",
    " - Illicit cigarretes was extracted manually from different PROJECT SUN done by KPMG, collected thorugh the years  \n",
    " - Volumes declared were in billion stick"
   ]
  },
  {
   "cell_type": "code",
   "execution_count": 2,
   "id": "c166ad7e",
   "metadata": {},
   "outputs": [],
   "source": [
    "# Importing data\n",
    "illicit27 = pd.read_csv(r\"C:\\Users\\Gordan\\Desktop\\Data Analyst\\Projects\\EU27 Tobacco Analysis\\Illicit EU27.csv\")  \n",
    "\n",
    "# For further analysis it was important to assign category type\n",
    "illicit27.insert(1, 'Category', 'Illicit Cigarettes', True)  \n",
    "  \n",
    "# Rename column for filtering purposes    \n",
    "illicit27.rename(columns={'EU27': 'Country'}, inplace=True)  "
   ]
  },
  {
   "cell_type": "markdown",
   "id": "cd9e3fc1",
   "metadata": {},
   "source": [
    "### 2. RETAIL CIGARETTES  \n",
    " - The data has been imported from the folowing source: https://taxation-customs.ec.europa.eu/system/files/2023-12/tobacco_products_releases-consumption.pdf  \n",
    " - The cigarette volumes declared were in 1000 sticks"
   ]
  },
  {
   "cell_type": "code",
   "execution_count": 3,
   "id": "6de95005",
   "metadata": {},
   "outputs": [],
   "source": [
    "cig27 = pd.DataFrame(tabula.read_pdf(r\"https://taxation-customs.ec.europa.eu/system/files/2023-12/tobacco_products_releases-consumption.pdf\", pages ='all')[0])"
   ]
  },
  {
   "cell_type": "markdown",
   "id": "de563451",
   "metadata": {},
   "source": [
    "#### 2.1. RESIZING AND CATEGORISING"
   ]
  },
  {
   "cell_type": "code",
   "execution_count": 4,
   "id": "8036437a",
   "metadata": {},
   "outputs": [],
   "source": [
    "# assigning category type  \n",
    "cig27.insert(1, 'Category', 'Cigarettes', True)  \n",
    "  \n",
    "# limiting years from 2014 onwards    \n",
    "cig27.drop(cig27.iloc[:, 2:14],axis = 1, inplace= True)  \n",
    "  \n",
    "# excluding 2022 from analysis    \n",
    "cig27 = cig27.iloc[:, :-1]  \n",
    "  \n",
    "# excluding UK and Total to limit analysis to EU27    \n",
    "cig27 = cig27.iloc[:-2,:]  \n",
    "  \n",
    "# Standardizing first column for filtering purposes\n",
    "cig27['EU'] = illicit27['Country']\n",
    "cig27 = cig27.rename(columns={'EU': 'Country'})"
   ]
  },
  {
   "cell_type": "markdown",
   "id": "0050a641",
   "metadata": {},
   "source": [
    "#### 2.2. CLEANING AND STANDARDIZING VALUES"
   ]
  },
  {
   "cell_type": "code",
   "execution_count": 5,
   "id": "b328ef09",
   "metadata": {},
   "outputs": [
    {
     "name": "stderr",
     "output_type": "stream",
     "text": [
      "C:\\Users\\Gordan\\AppData\\Local\\Temp\\ipykernel_22980\\3751302888.py:11: DeprecationWarning: In a future version, `df.iloc[:, i] = newvals` will attempt to set the values inplace instead of always setting a new array. To retain the old behavior, use either `df[df.columns[i]] = newvals` or, if columns are non-unique, `df.isetitem(i, newvals)`\n",
      "  cig27.iloc[:, 2:23] = cig27.iloc[:, 2:23].astype(float)/1000000\n"
     ]
    }
   ],
   "source": [
    "# Remove N/A data\n",
    "cig27 = cig27.replace(to_replace='N/A', value=0, regex=True)  \n",
    "  \n",
    "# Remove \",\" in order to avoid decimal sign and thousandt delimiter\n",
    "cig27 = cig27.replace(',', value='', regex=True)  \n",
    "  \n",
    "# Remove data entry errors using Regular Expressions\n",
    "cig27.iloc[26,:] = cig27.iloc[26,:].replace(to_replace='(\\r[0-9]+$)', value = '', regex = True)  \n",
    "  \n",
    "# Transform DataFrame values into billion and make the data type float \n",
    "cig27.iloc[:, 2:23] = cig27.iloc[:, 2:23].astype(float)/1000000"
   ]
  },
  {
   "cell_type": "markdown",
   "id": "5e40b25d",
   "metadata": {},
   "source": [
    "### 3. SMOKING TOBACCO  \n",
    " - The data has been imported from the folowing source: https://taxation-customs.ec.europa.eu/system/files/2023-12/tobacco_products_releases-consumption.pdf  \n",
    " - The cigarette volumes declared were in kg  \n",
    " \n",
    " - One stick rolled cigarette in European Union takes arround 0.75 grams of smoking tobacco  \n",
    " - The study that mentions this value can be found on: https://www.ncbi.nlm.nih.gov/pmc/articles/PMC4127802/  \n",
    " - With values mentioned above the amount of sticks from one kg of smoking tobacco is 1,333.333 The formula is:  \n",
    " 1kg/0.00075kg(0.75g)= 1,333.333"
   ]
  },
  {
   "cell_type": "code",
   "execution_count": 6,
   "id": "711801c8",
   "metadata": {},
   "outputs": [],
   "source": [
    "tob27 = pd.DataFrame(tabula.read_pdf(r\"https://taxation-customs.ec.europa.eu/system/files/2023-12/tobacco_products_releases-consumption.pdf\", pages ='all')[1])"
   ]
  },
  {
   "cell_type": "markdown",
   "id": "5d42ee1f",
   "metadata": {},
   "source": [
    "#### 3.1. RESIZING AND CATEGORISING"
   ]
  },
  {
   "cell_type": "code",
   "execution_count": 7,
   "id": "db482d7b",
   "metadata": {},
   "outputs": [],
   "source": [
    "# assigning category type  \n",
    "tob27.insert(1, 'Category', 'Tobacco', True)  \n",
    "  \n",
    "# limiting years from 2014 onwards    \n",
    "tob27.drop(tob27.iloc[:, 2:14],axis = 1, inplace= True)  \n",
    "  \n",
    "# excluding 2022 from analysis    \n",
    "tob27 = tob27.iloc[:, :-1]  \n",
    "  \n",
    "# excluding UK and Total to limit analysis to EU27    \n",
    "tob27 = tob27.iloc[:-2,:]  \n",
    "  \n",
    "# Standardizing first scolumn for filtering purposes\n",
    "tob27['EU'] = illicit27['Country']\n",
    "tob27 = tob27.rename(columns={'EU': 'Country'})"
   ]
  },
  {
   "cell_type": "markdown",
   "id": "536c0fac",
   "metadata": {},
   "source": [
    "#### 3.2. CLEANING AND STANDARDIZING VALUES"
   ]
  },
  {
   "cell_type": "code",
   "execution_count": 8,
   "id": "bcb8e200",
   "metadata": {},
   "outputs": [
    {
     "name": "stderr",
     "output_type": "stream",
     "text": [
      "C:\\Users\\Gordan\\AppData\\Local\\Temp\\ipykernel_22980\\2877360665.py:8: DeprecationWarning: In a future version, `df.iloc[:, i] = newvals` will attempt to set the values inplace instead of always setting a new array. To retain the old behavior, use either `df[df.columns[i]] = newvals` or, if columns are non-unique, `df.isetitem(i, newvals)`\n",
      "  tob27.iloc[:, 2:23] = tob27.iloc[:, 2:23].astype(float)\n"
     ]
    }
   ],
   "source": [
    "# Remove N/A data\n",
    "tob27 = tob27.replace(to_replace='N/A', value=0, regex=True)  \n",
    "  \n",
    "# Remove \",\" in order to avoid decimal sign and thousandt delimiter\n",
    "tob27 = tob27.replace(',', value='', regex=True)  \n",
    "  \n",
    "# Transform DataFrame values into data type float  \n",
    "tob27.iloc[:, 2:23] = tob27.iloc[:, 2:23].astype(float)\n",
    "\n",
    "# Use the formula to tranform Kilograms to sticks\n",
    "tob27.iloc[:, 2:23] = tob27.iloc[:, 2:23]*1333.3/1000000000"
   ]
  },
  {
   "cell_type": "markdown",
   "id": "53723d7a",
   "metadata": {},
   "source": [
    "### 4. MERGING AND TRANSFORMING DATAFRAMES"
   ]
  },
  {
   "cell_type": "code",
   "execution_count": 9,
   "id": "3d7a3f52",
   "metadata": {},
   "outputs": [],
   "source": [
    "# Creating unified DataFrame for necessary analysis\n",
    "Tobacco_Total = pd.concat([cig27, illicit27, tob27], sort=False, axis=0)  \n",
    "  \n",
    "# Transposing data for easier analysis with SQL and Power BI\n",
    "Tobacco_Total = pd.melt(Tobacco_Total, id_vars=['Country', 'Category'], var_name='Year', value_name='Volumes')  \n",
    " "
   ]
  },
  {
   "cell_type": "code",
   "execution_count": 10,
   "id": "dd9d2c3a",
   "metadata": {},
   "outputs": [
    {
     "data": {
      "text/html": [
       "<div>\n",
       "<style scoped>\n",
       "    .dataframe tbody tr th:only-of-type {\n",
       "        vertical-align: middle;\n",
       "    }\n",
       "\n",
       "    .dataframe tbody tr th {\n",
       "        vertical-align: top;\n",
       "    }\n",
       "\n",
       "    .dataframe thead th {\n",
       "        text-align: right;\n",
       "    }\n",
       "</style>\n",
       "<table border=\"1\" class=\"dataframe\">\n",
       "  <thead>\n",
       "    <tr style=\"text-align: right;\">\n",
       "      <th></th>\n",
       "      <th>Country</th>\n",
       "      <th>Category</th>\n",
       "      <th>Year</th>\n",
       "      <th>Volumes</th>\n",
       "    </tr>\n",
       "  </thead>\n",
       "  <tbody>\n",
       "    <tr>\n",
       "      <th>0</th>\n",
       "      <td>Austria</td>\n",
       "      <td>Cigarettes</td>\n",
       "      <td>2014</td>\n",
       "      <td>12.902235</td>\n",
       "    </tr>\n",
       "    <tr>\n",
       "      <th>1</th>\n",
       "      <td>Belgium</td>\n",
       "      <td>Cigarettes</td>\n",
       "      <td>2014</td>\n",
       "      <td>10.820948</td>\n",
       "    </tr>\n",
       "    <tr>\n",
       "      <th>2</th>\n",
       "      <td>Bulgaria</td>\n",
       "      <td>Cigarettes</td>\n",
       "      <td>2014</td>\n",
       "      <td>11.343246</td>\n",
       "    </tr>\n",
       "    <tr>\n",
       "      <th>3</th>\n",
       "      <td>Croatia</td>\n",
       "      <td>Cigarettes</td>\n",
       "      <td>2014</td>\n",
       "      <td>5.654912</td>\n",
       "    </tr>\n",
       "    <tr>\n",
       "      <th>4</th>\n",
       "      <td>Cyprus</td>\n",
       "      <td>Cigarettes</td>\n",
       "      <td>2014</td>\n",
       "      <td>1.347888</td>\n",
       "    </tr>\n",
       "    <tr>\n",
       "      <th>...</th>\n",
       "      <td>...</td>\n",
       "      <td>...</td>\n",
       "      <td>...</td>\n",
       "      <td>...</td>\n",
       "    </tr>\n",
       "    <tr>\n",
       "      <th>643</th>\n",
       "      <td>Romania</td>\n",
       "      <td>Tobacco</td>\n",
       "      <td>2021</td>\n",
       "      <td>0.112197</td>\n",
       "    </tr>\n",
       "    <tr>\n",
       "      <th>644</th>\n",
       "      <td>Slovakia</td>\n",
       "      <td>Tobacco</td>\n",
       "      <td>2021</td>\n",
       "      <td>0.430939</td>\n",
       "    </tr>\n",
       "    <tr>\n",
       "      <th>645</th>\n",
       "      <td>Slovenia</td>\n",
       "      <td>Tobacco</td>\n",
       "      <td>2021</td>\n",
       "      <td>0.209877</td>\n",
       "    </tr>\n",
       "    <tr>\n",
       "      <th>646</th>\n",
       "      <td>Spain</td>\n",
       "      <td>Tobacco</td>\n",
       "      <td>2021</td>\n",
       "      <td>8.291793</td>\n",
       "    </tr>\n",
       "    <tr>\n",
       "      <th>647</th>\n",
       "      <td>Sweden</td>\n",
       "      <td>Tobacco</td>\n",
       "      <td>2021</td>\n",
       "      <td>0.091998</td>\n",
       "    </tr>\n",
       "  </tbody>\n",
       "</table>\n",
       "<p>648 rows × 4 columns</p>\n",
       "</div>"
      ],
      "text/plain": [
       "      Country    Category  Year    Volumes\n",
       "0     Austria  Cigarettes  2014  12.902235\n",
       "1     Belgium  Cigarettes  2014  10.820948\n",
       "2    Bulgaria  Cigarettes  2014  11.343246\n",
       "3     Croatia  Cigarettes  2014   5.654912\n",
       "4      Cyprus  Cigarettes  2014   1.347888\n",
       "..        ...         ...   ...        ...\n",
       "643   Romania     Tobacco  2021   0.112197\n",
       "644  Slovakia     Tobacco  2021   0.430939\n",
       "645  Slovenia     Tobacco  2021   0.209877\n",
       "646     Spain     Tobacco  2021   8.291793\n",
       "647    Sweden     Tobacco  2021   0.091998\n",
       "\n",
       "[648 rows x 4 columns]"
      ]
     },
     "execution_count": 10,
     "metadata": {},
     "output_type": "execute_result"
    }
   ],
   "source": [
    "Tobacco_Total"
   ]
  },
  {
   "cell_type": "code",
   "execution_count": 11,
   "id": "4a179f21",
   "metadata": {},
   "outputs": [],
   "source": [
    "Tobacco_Total.to_csv(r'C:\\Users\\Gordan\\Desktop\\Data Analyst\\Projects\\EU27 Tobacco Analysis\\EU27_Total_Tobacco_Volumes_source.csv')"
   ]
  }
 ],
 "metadata": {
  "kernelspec": {
   "display_name": "Python 3 (ipykernel)",
   "language": "python",
   "name": "python3"
  },
  "language_info": {
   "codemirror_mode": {
    "name": "ipython",
    "version": 3
   },
   "file_extension": ".py",
   "mimetype": "text/x-python",
   "name": "python",
   "nbconvert_exporter": "python",
   "pygments_lexer": "ipython3",
   "version": "3.11.3"
  }
 },
 "nbformat": 4,
 "nbformat_minor": 5
}
